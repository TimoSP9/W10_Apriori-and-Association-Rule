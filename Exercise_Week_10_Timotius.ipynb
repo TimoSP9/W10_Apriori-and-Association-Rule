{
 "cells": [
  {
   "cell_type": "code",
   "execution_count": 2,
   "metadata": {
    "colab": {
     "base_uri": "https://localhost:8080/"
    },
    "id": "JuFb1MP_O5EW",
    "outputId": "17a158d8-8df8-4af8-d8cb-b15b95e590c3"
   },
   "outputs": [
    {
     "name": "stdout",
     "output_type": "stream",
     "text": [
      "\u001b[33mWARNING: Retrying (Retry(total=4, connect=None, read=None, redirect=None, status=None)) after connection broken by 'ProtocolError('Connection aborted.', ConnectionResetError(54, 'Connection reset by peer'))': /simple/mlxtend/\u001b[0m\u001b[33m\n",
      "\u001b[0mCollecting mlxtend\n",
      "  Obtaining dependency information for mlxtend from https://files.pythonhosted.org/packages/73/da/d5d77a9a7a135c948dbf8d3b873655b105a152d69e590150c83d23c3d070/mlxtend-0.23.0-py3-none-any.whl.metadata\n",
      "  Downloading mlxtend-0.23.0-py3-none-any.whl.metadata (7.3 kB)\n",
      "Requirement already satisfied: scipy>=1.2.1 in /Users/mac/anaconda3/lib/python3.11/site-packages (from mlxtend) (1.10.1)\n",
      "Requirement already satisfied: numpy>=1.16.2 in /Users/mac/anaconda3/lib/python3.11/site-packages (from mlxtend) (1.24.3)\n",
      "Requirement already satisfied: pandas>=0.24.2 in /Users/mac/anaconda3/lib/python3.11/site-packages (from mlxtend) (1.5.3)\n",
      "Requirement already satisfied: scikit-learn>=1.0.2 in /Users/mac/anaconda3/lib/python3.11/site-packages (from mlxtend) (1.3.0)\n",
      "Requirement already satisfied: matplotlib>=3.0.0 in /Users/mac/anaconda3/lib/python3.11/site-packages (from mlxtend) (3.7.1)\n",
      "Requirement already satisfied: joblib>=0.13.2 in /Users/mac/anaconda3/lib/python3.11/site-packages (from mlxtend) (1.2.0)\n",
      "Requirement already satisfied: contourpy>=1.0.1 in /Users/mac/anaconda3/lib/python3.11/site-packages (from matplotlib>=3.0.0->mlxtend) (1.0.5)\n",
      "Requirement already satisfied: cycler>=0.10 in /Users/mac/anaconda3/lib/python3.11/site-packages (from matplotlib>=3.0.0->mlxtend) (0.11.0)\n",
      "Requirement already satisfied: fonttools>=4.22.0 in /Users/mac/anaconda3/lib/python3.11/site-packages (from matplotlib>=3.0.0->mlxtend) (4.25.0)\n",
      "Requirement already satisfied: kiwisolver>=1.0.1 in /Users/mac/anaconda3/lib/python3.11/site-packages (from matplotlib>=3.0.0->mlxtend) (1.4.4)\n",
      "Requirement already satisfied: packaging>=20.0 in /Users/mac/anaconda3/lib/python3.11/site-packages (from matplotlib>=3.0.0->mlxtend) (23.0)\n",
      "Requirement already satisfied: pillow>=6.2.0 in /Users/mac/anaconda3/lib/python3.11/site-packages (from matplotlib>=3.0.0->mlxtend) (9.4.0)\n",
      "Requirement already satisfied: pyparsing>=2.3.1 in /Users/mac/anaconda3/lib/python3.11/site-packages (from matplotlib>=3.0.0->mlxtend) (3.0.9)\n",
      "Requirement already satisfied: python-dateutil>=2.7 in /Users/mac/anaconda3/lib/python3.11/site-packages (from matplotlib>=3.0.0->mlxtend) (2.8.2)\n",
      "Requirement already satisfied: pytz>=2020.1 in /Users/mac/anaconda3/lib/python3.11/site-packages (from pandas>=0.24.2->mlxtend) (2022.7)\n",
      "Requirement already satisfied: threadpoolctl>=2.0.0 in /Users/mac/anaconda3/lib/python3.11/site-packages (from scikit-learn>=1.0.2->mlxtend) (2.2.0)\n",
      "Requirement already satisfied: six>=1.5 in /Users/mac/anaconda3/lib/python3.11/site-packages (from python-dateutil>=2.7->matplotlib>=3.0.0->mlxtend) (1.16.0)\n",
      "Downloading mlxtend-0.23.0-py3-none-any.whl (1.4 MB)\n",
      "\u001b[2K   \u001b[90m━━━━━━━━━━━━━━━━━━━━━━━━━━━━━━━━━━━━━━━━\u001b[0m \u001b[32m1.4/1.4 MB\u001b[0m \u001b[31m80.6 kB/s\u001b[0m eta \u001b[36m0:00:00\u001b[0m00:01\u001b[0m00:01\u001b[0mm\n",
      "\u001b[?25hInstalling collected packages: mlxtend\n",
      "Successfully installed mlxtend-0.23.0\n"
     ]
    }
   ],
   "source": [
    "import pandas as pd\n",
    "import numpy as np\n",
    "from matplotlib import pyplot as plt\n",
    "\n",
    "! pip install mlxtend\n"
   ]
  },
  {
   "cell_type": "markdown",
   "metadata": {
    "id": "wDYkmRlZPSXY"
   },
   "source": [
    "# Association Rule for Store Dataset"
   ]
  },
  {
   "cell_type": "markdown",
   "metadata": {
    "id": "IYfOAa9fPjln"
   },
   "source": [
    "In this case study, we will explore how association rule can be used to analyze the items that are usualy purcased together.\n",
    "\n",
    "you can refer to this article to find out about apriori and association rule:\n",
    "https://rasbt.github.io/mlxtend/user_guide/frequent_patterns/apriori/\n",
    "https://rasbt.github.io/mlxtend/user_guide/frequent_patterns/association_rules/"
   ]
  },
  {
   "cell_type": "markdown",
   "metadata": {
    "id": "7EOg6BIYPxt4"
   },
   "source": [
    "## Load Data"
   ]
  },
  {
   "cell_type": "markdown",
   "metadata": {
    "id": "Gp0OZCjrQT1n"
   },
   "source": [
    "We will use the dataset of the transaction in a certain store. You can get the dataset here: \n",
    "https://gist.githubusercontent.com/Harsh-Git-Hub/2979ec48043928ad9033d8469928e751/raw/72de943e040b8bd0d087624b154d41b2ba9d9b60/retail_dataset.csv"
   ]
  },
  {
   "cell_type": "code",
   "execution_count": 4,
   "metadata": {
    "colab": {
     "base_uri": "https://localhost:8080/",
     "height": 204
    },
    "id": "LDF65VBRQjFL",
    "outputId": "e9c6b17c-3450-4b26-af48-e963cc0dd11b"
   },
   "outputs": [
    {
     "data": {
      "text/html": [
       "<div>\n",
       "<style scoped>\n",
       "    .dataframe tbody tr th:only-of-type {\n",
       "        vertical-align: middle;\n",
       "    }\n",
       "\n",
       "    .dataframe tbody tr th {\n",
       "        vertical-align: top;\n",
       "    }\n",
       "\n",
       "    .dataframe thead th {\n",
       "        text-align: right;\n",
       "    }\n",
       "</style>\n",
       "<table border=\"1\" class=\"dataframe\">\n",
       "  <thead>\n",
       "    <tr style=\"text-align: right;\">\n",
       "      <th></th>\n",
       "      <th>0</th>\n",
       "      <th>1</th>\n",
       "      <th>2</th>\n",
       "      <th>3</th>\n",
       "      <th>4</th>\n",
       "      <th>5</th>\n",
       "      <th>6</th>\n",
       "    </tr>\n",
       "  </thead>\n",
       "  <tbody>\n",
       "    <tr>\n",
       "      <th>0</th>\n",
       "      <td>Bread</td>\n",
       "      <td>Wine</td>\n",
       "      <td>Eggs</td>\n",
       "      <td>Meat</td>\n",
       "      <td>Cheese</td>\n",
       "      <td>Pencil</td>\n",
       "      <td>Diaper</td>\n",
       "    </tr>\n",
       "    <tr>\n",
       "      <th>1</th>\n",
       "      <td>Bread</td>\n",
       "      <td>Cheese</td>\n",
       "      <td>Meat</td>\n",
       "      <td>Diaper</td>\n",
       "      <td>Wine</td>\n",
       "      <td>Milk</td>\n",
       "      <td>Pencil</td>\n",
       "    </tr>\n",
       "    <tr>\n",
       "      <th>2</th>\n",
       "      <td>Cheese</td>\n",
       "      <td>Meat</td>\n",
       "      <td>Eggs</td>\n",
       "      <td>Milk</td>\n",
       "      <td>Wine</td>\n",
       "      <td>NaN</td>\n",
       "      <td>NaN</td>\n",
       "    </tr>\n",
       "    <tr>\n",
       "      <th>3</th>\n",
       "      <td>Cheese</td>\n",
       "      <td>Meat</td>\n",
       "      <td>Eggs</td>\n",
       "      <td>Milk</td>\n",
       "      <td>Wine</td>\n",
       "      <td>NaN</td>\n",
       "      <td>NaN</td>\n",
       "    </tr>\n",
       "    <tr>\n",
       "      <th>4</th>\n",
       "      <td>Meat</td>\n",
       "      <td>Pencil</td>\n",
       "      <td>Wine</td>\n",
       "      <td>NaN</td>\n",
       "      <td>NaN</td>\n",
       "      <td>NaN</td>\n",
       "      <td>NaN</td>\n",
       "    </tr>\n",
       "  </tbody>\n",
       "</table>\n",
       "</div>"
      ],
      "text/plain": [
       "        0       1     2       3       4       5       6\n",
       "0   Bread    Wine  Eggs    Meat  Cheese  Pencil  Diaper\n",
       "1   Bread  Cheese  Meat  Diaper    Wine    Milk  Pencil\n",
       "2  Cheese    Meat  Eggs    Milk    Wine     NaN     NaN\n",
       "3  Cheese    Meat  Eggs    Milk    Wine     NaN     NaN\n",
       "4    Meat  Pencil  Wine     NaN     NaN     NaN     NaN"
      ]
     },
     "execution_count": 4,
     "metadata": {},
     "output_type": "execute_result"
    }
   ],
   "source": [
    "# load the data set and show the first five transaction\n",
    "df = pd.read_csv('https://gist.githubusercontent.com/Harsh-Git-Hub/2979ec48043928ad9033d8469928e751/raw/72de943e040b8bd0d087624b154d41b2ba9d9b60/retail_dataset.csv')\n",
    "df.head()"
   ]
  },
  {
   "cell_type": "markdown",
   "metadata": {
    "id": "IkfhUabDQup9"
   },
   "source": [
    "# Get the set of product that has been purchased\n"
   ]
  },
  {
   "cell_type": "markdown",
   "metadata": {},
   "source": [
    "Get the unique product that has been purchased"
   ]
  },
  {
   "cell_type": "code",
   "execution_count": 5,
   "metadata": {
    "colab": {
     "base_uri": "https://localhost:8080/"
    },
    "id": "Awz6VzuMwR_-",
    "outputId": "1fc181b3-cffe-48fe-9d3b-066323061907"
   },
   "outputs": [
    {
     "name": "stdout",
     "output_type": "stream",
     "text": [
      "{'Pencil', 'Bagel', 'Eggs', 'Cheese', 'Wine', 'Bread', 'Diaper', nan, 'Meat', 'Milk'}\n"
     ]
    }
   ],
   "source": [
    "products = set(df.values.flatten())\n",
    "print(products)\n"
   ]
  },
  {
   "cell_type": "markdown",
   "metadata": {
    "id": "M4g4k83bP07H"
   },
   "source": [
    "## Preprocess Data"
   ]
  },
  {
   "cell_type": "markdown",
   "metadata": {
    "id": "GEnL1bXtRLXe"
   },
   "source": [
    "In this step, we will transform our dataset so that we will have a one hot encoding based on the purchased products."
   ]
  },
  {
   "cell_type": "code",
   "execution_count": 6,
   "metadata": {
    "id": "N4wdVmFWQ_yg"
   },
   "outputs": [
    {
     "name": "stdout",
     "output_type": "stream",
     "text": [
      "['Pencil', 'Bagel', 'Eggs', 'Cheese', 'Wine', 'Bread', 'Diaper', 'Meat', 'Milk']\n"
     ]
    }
   ],
   "source": [
    "itemset = set()\n",
    "for i in range(len(df)):\n",
    "    itemset.update(df.loc[i].dropna().values)\n",
    "itemset = list(itemset)\n",
    "print(itemset)\n"
   ]
  },
  {
   "cell_type": "code",
   "execution_count": 7,
   "metadata": {},
   "outputs": [
    {
     "name": "stdout",
     "output_type": "stream",
     "text": [
      "['Pencil', 'Bagel', 'Eggs', 'Cheese', 'Wine', 'Bread', 'Diaper', 'Meat', 'Milk']\n"
     ]
    },
    {
     "data": {
      "text/plain": [
       "{'Bagel': 0,\n",
       " 'Milk': 0,\n",
       " 'Pencil': 1,\n",
       " 'Eggs': 1,\n",
       " 'Cheese': 1,\n",
       " 'Wine': 1,\n",
       " 'Bread': 1,\n",
       " 'Diaper': 1,\n",
       " 'Meat': 1}"
      ]
     },
     "execution_count": 7,
     "metadata": {},
     "output_type": "execute_result"
    }
   ],
   "source": [
    "#create an itemset based on the products\n",
    "itemset = set()\n",
    "for i in range(len(df)):\n",
    "    itemset.update(df.loc[i].dropna().values)\n",
    "itemset = list(itemset)\n",
    "print(itemset)\n",
    "\n",
    "# encoding the feature\n",
    "encoded_vals = []\n",
    "for index, row in df.iterrows():\n",
    "    labels = {}\n",
    "    uncommons = list(set(itemset) - set(row))\n",
    "    commons = list(set(itemset).intersection(row))\n",
    "    for uc in uncommons:\n",
    "        labels[uc] = 0\n",
    "    for com in commons:\n",
    "        labels[com] = 1\n",
    "    encoded_vals.append(labels)\n",
    "encoded_vals[0]\n"
   ]
  },
  {
   "cell_type": "code",
   "execution_count": 8,
   "metadata": {
    "colab": {
     "base_uri": "https://localhost:8080/",
     "height": 204
    },
    "id": "v67eBdxByEJX",
    "outputId": "b05c05fb-7ae1-4fbe-a01a-d6985c360f5e"
   },
   "outputs": [
    {
     "data": {
      "text/html": [
       "<div>\n",
       "<style scoped>\n",
       "    .dataframe tbody tr th:only-of-type {\n",
       "        vertical-align: middle;\n",
       "    }\n",
       "\n",
       "    .dataframe tbody tr th {\n",
       "        vertical-align: top;\n",
       "    }\n",
       "\n",
       "    .dataframe thead th {\n",
       "        text-align: right;\n",
       "    }\n",
       "</style>\n",
       "<table border=\"1\" class=\"dataframe\">\n",
       "  <thead>\n",
       "    <tr style=\"text-align: right;\">\n",
       "      <th></th>\n",
       "      <th>Bagel</th>\n",
       "      <th>Milk</th>\n",
       "      <th>Pencil</th>\n",
       "      <th>Eggs</th>\n",
       "      <th>Cheese</th>\n",
       "      <th>Wine</th>\n",
       "      <th>Bread</th>\n",
       "      <th>Diaper</th>\n",
       "      <th>Meat</th>\n",
       "    </tr>\n",
       "  </thead>\n",
       "  <tbody>\n",
       "    <tr>\n",
       "      <th>0</th>\n",
       "      <td>0</td>\n",
       "      <td>0</td>\n",
       "      <td>1</td>\n",
       "      <td>1</td>\n",
       "      <td>1</td>\n",
       "      <td>1</td>\n",
       "      <td>1</td>\n",
       "      <td>1</td>\n",
       "      <td>1</td>\n",
       "    </tr>\n",
       "    <tr>\n",
       "      <th>1</th>\n",
       "      <td>0</td>\n",
       "      <td>1</td>\n",
       "      <td>1</td>\n",
       "      <td>0</td>\n",
       "      <td>1</td>\n",
       "      <td>1</td>\n",
       "      <td>1</td>\n",
       "      <td>1</td>\n",
       "      <td>1</td>\n",
       "    </tr>\n",
       "    <tr>\n",
       "      <th>2</th>\n",
       "      <td>0</td>\n",
       "      <td>1</td>\n",
       "      <td>0</td>\n",
       "      <td>1</td>\n",
       "      <td>1</td>\n",
       "      <td>1</td>\n",
       "      <td>0</td>\n",
       "      <td>0</td>\n",
       "      <td>1</td>\n",
       "    </tr>\n",
       "    <tr>\n",
       "      <th>3</th>\n",
       "      <td>0</td>\n",
       "      <td>1</td>\n",
       "      <td>0</td>\n",
       "      <td>1</td>\n",
       "      <td>1</td>\n",
       "      <td>1</td>\n",
       "      <td>0</td>\n",
       "      <td>0</td>\n",
       "      <td>1</td>\n",
       "    </tr>\n",
       "    <tr>\n",
       "      <th>4</th>\n",
       "      <td>0</td>\n",
       "      <td>0</td>\n",
       "      <td>1</td>\n",
       "      <td>0</td>\n",
       "      <td>0</td>\n",
       "      <td>1</td>\n",
       "      <td>0</td>\n",
       "      <td>0</td>\n",
       "      <td>1</td>\n",
       "    </tr>\n",
       "  </tbody>\n",
       "</table>\n",
       "</div>"
      ],
      "text/plain": [
       "   Bagel  Milk  Pencil  Eggs  Cheese  Wine  Bread  Diaper  Meat\n",
       "0      0     0       1     1       1     1      1       1     1\n",
       "1      0     1       1     0       1     1      1       1     1\n",
       "2      0     1       0     1       1     1      0       0     1\n",
       "3      0     1       0     1       1     1      0       0     1\n",
       "4      0     0       1     0       0     1      0       0     1"
      ]
     },
     "execution_count": 8,
     "metadata": {},
     "output_type": "execute_result"
    }
   ],
   "source": [
    "# create new dataframe from the encoded features\n",
    "ohe_df = pd.DataFrame(encoded_vals)\n",
    "# show the new dataframe\n",
    "ohe_df.head()\n"
   ]
  },
  {
   "cell_type": "markdown",
   "metadata": {
    "id": "lBJmzWAAS4Mw"
   },
   "source": [
    "Since, the encoded dataframe consist of the empty column. We will drop the NaN column or select all columns other than the first column."
   ]
  },
  {
   "cell_type": "code",
   "execution_count": null,
   "metadata": {
    "colab": {
     "base_uri": "https://localhost:8080/",
     "height": 204
    },
    "id": "2eHZu15xyTqm",
    "outputId": "7bffff16-fc02-48fe-bc98-7616bf75908e"
   },
   "outputs": [],
   "source": []
  },
  {
   "cell_type": "markdown",
   "metadata": {
    "id": "_UXDzSNPP35P"
   },
   "source": [
    "## Apriori Algorithm"
   ]
  },
  {
   "cell_type": "markdown",
   "metadata": {
    "id": "K-jD3ea4TYMV"
   },
   "source": [
    "We will use appriori algorithm to determine the frequently purchased products. \n",
    "For this case study, we will min_support=0.2"
   ]
  },
  {
   "cell_type": "code",
   "execution_count": 9,
   "metadata": {
    "colab": {
     "base_uri": "https://localhost:8080/",
     "height": 1000
    },
    "id": "BLA4Jqhoyjof",
    "outputId": "bc435206-1be2-41e6-b05b-0f1ba125e955"
   },
   "outputs": [
    {
     "name": "stderr",
     "output_type": "stream",
     "text": [
      "/Users/mac/anaconda3/lib/python3.11/site-packages/mlxtend/frequent_patterns/fpcommon.py:110: DeprecationWarning: DataFrames with non-bool types result in worse computationalperformance and their support might be discontinued in the future.Please use a DataFrame with bool type\n",
      "  warnings.warn(\n"
     ]
    },
    {
     "data": {
      "text/html": [
       "<div>\n",
       "<style scoped>\n",
       "    .dataframe tbody tr th:only-of-type {\n",
       "        vertical-align: middle;\n",
       "    }\n",
       "\n",
       "    .dataframe tbody tr th {\n",
       "        vertical-align: top;\n",
       "    }\n",
       "\n",
       "    .dataframe thead th {\n",
       "        text-align: right;\n",
       "    }\n",
       "</style>\n",
       "<table border=\"1\" class=\"dataframe\">\n",
       "  <thead>\n",
       "    <tr style=\"text-align: right;\">\n",
       "      <th></th>\n",
       "      <th>support</th>\n",
       "      <th>itemsets</th>\n",
       "    </tr>\n",
       "  </thead>\n",
       "  <tbody>\n",
       "    <tr>\n",
       "      <th>0</th>\n",
       "      <td>0.425397</td>\n",
       "      <td>(Bagel)</td>\n",
       "    </tr>\n",
       "    <tr>\n",
       "      <th>1</th>\n",
       "      <td>0.501587</td>\n",
       "      <td>(Milk)</td>\n",
       "    </tr>\n",
       "    <tr>\n",
       "      <th>2</th>\n",
       "      <td>0.361905</td>\n",
       "      <td>(Pencil)</td>\n",
       "    </tr>\n",
       "    <tr>\n",
       "      <th>3</th>\n",
       "      <td>0.438095</td>\n",
       "      <td>(Eggs)</td>\n",
       "    </tr>\n",
       "    <tr>\n",
       "      <th>4</th>\n",
       "      <td>0.501587</td>\n",
       "      <td>(Cheese)</td>\n",
       "    </tr>\n",
       "    <tr>\n",
       "      <th>5</th>\n",
       "      <td>0.438095</td>\n",
       "      <td>(Wine)</td>\n",
       "    </tr>\n",
       "    <tr>\n",
       "      <th>6</th>\n",
       "      <td>0.504762</td>\n",
       "      <td>(Bread)</td>\n",
       "    </tr>\n",
       "    <tr>\n",
       "      <th>7</th>\n",
       "      <td>0.406349</td>\n",
       "      <td>(Diaper)</td>\n",
       "    </tr>\n",
       "    <tr>\n",
       "      <th>8</th>\n",
       "      <td>0.476190</td>\n",
       "      <td>(Meat)</td>\n",
       "    </tr>\n",
       "    <tr>\n",
       "      <th>9</th>\n",
       "      <td>0.225397</td>\n",
       "      <td>(Bagel, Milk)</td>\n",
       "    </tr>\n",
       "    <tr>\n",
       "      <th>10</th>\n",
       "      <td>0.279365</td>\n",
       "      <td>(Bread, Bagel)</td>\n",
       "    </tr>\n",
       "    <tr>\n",
       "      <th>11</th>\n",
       "      <td>0.244444</td>\n",
       "      <td>(Eggs, Milk)</td>\n",
       "    </tr>\n",
       "    <tr>\n",
       "      <th>12</th>\n",
       "      <td>0.304762</td>\n",
       "      <td>(Cheese, Milk)</td>\n",
       "    </tr>\n",
       "    <tr>\n",
       "      <th>13</th>\n",
       "      <td>0.219048</td>\n",
       "      <td>(Wine, Milk)</td>\n",
       "    </tr>\n",
       "    <tr>\n",
       "      <th>14</th>\n",
       "      <td>0.279365</td>\n",
       "      <td>(Bread, Milk)</td>\n",
       "    </tr>\n",
       "    <tr>\n",
       "      <th>15</th>\n",
       "      <td>0.244444</td>\n",
       "      <td>(Meat, Milk)</td>\n",
       "    </tr>\n",
       "    <tr>\n",
       "      <th>16</th>\n",
       "      <td>0.200000</td>\n",
       "      <td>(Cheese, Pencil)</td>\n",
       "    </tr>\n",
       "    <tr>\n",
       "      <th>17</th>\n",
       "      <td>0.200000</td>\n",
       "      <td>(Pencil, Wine)</td>\n",
       "    </tr>\n",
       "    <tr>\n",
       "      <th>18</th>\n",
       "      <td>0.200000</td>\n",
       "      <td>(Bread, Pencil)</td>\n",
       "    </tr>\n",
       "    <tr>\n",
       "      <th>19</th>\n",
       "      <td>0.298413</td>\n",
       "      <td>(Cheese, Eggs)</td>\n",
       "    </tr>\n",
       "    <tr>\n",
       "      <th>20</th>\n",
       "      <td>0.241270</td>\n",
       "      <td>(Eggs, Wine)</td>\n",
       "    </tr>\n",
       "    <tr>\n",
       "      <th>21</th>\n",
       "      <td>0.266667</td>\n",
       "      <td>(Eggs, Meat)</td>\n",
       "    </tr>\n",
       "    <tr>\n",
       "      <th>22</th>\n",
       "      <td>0.269841</td>\n",
       "      <td>(Cheese, Wine)</td>\n",
       "    </tr>\n",
       "    <tr>\n",
       "      <th>23</th>\n",
       "      <td>0.238095</td>\n",
       "      <td>(Bread, Cheese)</td>\n",
       "    </tr>\n",
       "    <tr>\n",
       "      <th>24</th>\n",
       "      <td>0.200000</td>\n",
       "      <td>(Diaper, Cheese)</td>\n",
       "    </tr>\n",
       "    <tr>\n",
       "      <th>25</th>\n",
       "      <td>0.323810</td>\n",
       "      <td>(Cheese, Meat)</td>\n",
       "    </tr>\n",
       "    <tr>\n",
       "      <th>26</th>\n",
       "      <td>0.244444</td>\n",
       "      <td>(Bread, Wine)</td>\n",
       "    </tr>\n",
       "    <tr>\n",
       "      <th>27</th>\n",
       "      <td>0.234921</td>\n",
       "      <td>(Diaper, Wine)</td>\n",
       "    </tr>\n",
       "    <tr>\n",
       "      <th>28</th>\n",
       "      <td>0.250794</td>\n",
       "      <td>(Wine, Meat)</td>\n",
       "    </tr>\n",
       "    <tr>\n",
       "      <th>29</th>\n",
       "      <td>0.231746</td>\n",
       "      <td>(Bread, Diaper)</td>\n",
       "    </tr>\n",
       "    <tr>\n",
       "      <th>30</th>\n",
       "      <td>0.206349</td>\n",
       "      <td>(Bread, Meat)</td>\n",
       "    </tr>\n",
       "    <tr>\n",
       "      <th>31</th>\n",
       "      <td>0.203175</td>\n",
       "      <td>(Cheese, Meat, Milk)</td>\n",
       "    </tr>\n",
       "    <tr>\n",
       "      <th>32</th>\n",
       "      <td>0.215873</td>\n",
       "      <td>(Cheese, Eggs, Meat)</td>\n",
       "    </tr>\n",
       "  </tbody>\n",
       "</table>\n",
       "</div>"
      ],
      "text/plain": [
       "     support              itemsets\n",
       "0   0.425397               (Bagel)\n",
       "1   0.501587                (Milk)\n",
       "2   0.361905              (Pencil)\n",
       "3   0.438095                (Eggs)\n",
       "4   0.501587              (Cheese)\n",
       "5   0.438095                (Wine)\n",
       "6   0.504762               (Bread)\n",
       "7   0.406349              (Diaper)\n",
       "8   0.476190                (Meat)\n",
       "9   0.225397         (Bagel, Milk)\n",
       "10  0.279365        (Bread, Bagel)\n",
       "11  0.244444          (Eggs, Milk)\n",
       "12  0.304762        (Cheese, Milk)\n",
       "13  0.219048          (Wine, Milk)\n",
       "14  0.279365         (Bread, Milk)\n",
       "15  0.244444          (Meat, Milk)\n",
       "16  0.200000      (Cheese, Pencil)\n",
       "17  0.200000        (Pencil, Wine)\n",
       "18  0.200000       (Bread, Pencil)\n",
       "19  0.298413        (Cheese, Eggs)\n",
       "20  0.241270          (Eggs, Wine)\n",
       "21  0.266667          (Eggs, Meat)\n",
       "22  0.269841        (Cheese, Wine)\n",
       "23  0.238095       (Bread, Cheese)\n",
       "24  0.200000      (Diaper, Cheese)\n",
       "25  0.323810        (Cheese, Meat)\n",
       "26  0.244444         (Bread, Wine)\n",
       "27  0.234921        (Diaper, Wine)\n",
       "28  0.250794          (Wine, Meat)\n",
       "29  0.231746       (Bread, Diaper)\n",
       "30  0.206349         (Bread, Meat)\n",
       "31  0.203175  (Cheese, Meat, Milk)\n",
       "32  0.215873  (Cheese, Eggs, Meat)"
      ]
     },
     "execution_count": 9,
     "metadata": {},
     "output_type": "execute_result"
    }
   ],
   "source": [
    "from mlxtend.frequent_patterns import apriori\n",
    "\n",
    "# min_support=0.2\n",
    "freq_items = apriori(ohe_df, min_support=0.2, use_colnames=True)\n",
    "freq_items\n"
   ]
  },
  {
   "cell_type": "markdown",
   "metadata": {
    "id": "uEr2YXHrVOIA"
   },
   "source": [
    "Then, we will generate association rule of the frequent itemset based on confidence level with the threshold=0.6"
   ]
  },
  {
   "cell_type": "code",
   "execution_count": 10,
   "metadata": {
    "colab": {
     "base_uri": "https://localhost:8080/",
     "height": 482
    },
    "id": "5GalSXOoy6H8",
    "outputId": "2fc5a421-bca1-41c8-f96a-e24f49280d99"
   },
   "outputs": [
    {
     "data": {
      "text/html": [
       "<div>\n",
       "<style scoped>\n",
       "    .dataframe tbody tr th:only-of-type {\n",
       "        vertical-align: middle;\n",
       "    }\n",
       "\n",
       "    .dataframe tbody tr th {\n",
       "        vertical-align: top;\n",
       "    }\n",
       "\n",
       "    .dataframe thead th {\n",
       "        text-align: right;\n",
       "    }\n",
       "</style>\n",
       "<table border=\"1\" class=\"dataframe\">\n",
       "  <thead>\n",
       "    <tr style=\"text-align: right;\">\n",
       "      <th></th>\n",
       "      <th>antecedents</th>\n",
       "      <th>consequents</th>\n",
       "      <th>antecedent support</th>\n",
       "      <th>consequent support</th>\n",
       "      <th>support</th>\n",
       "      <th>confidence</th>\n",
       "      <th>lift</th>\n",
       "      <th>leverage</th>\n",
       "      <th>conviction</th>\n",
       "    </tr>\n",
       "  </thead>\n",
       "  <tbody>\n",
       "    <tr>\n",
       "      <th>0</th>\n",
       "      <td>(Bagel)</td>\n",
       "      <td>(Bread)</td>\n",
       "      <td>0.425397</td>\n",
       "      <td>0.504762</td>\n",
       "      <td>0.279365</td>\n",
       "      <td>0.656716</td>\n",
       "      <td>1.301042</td>\n",
       "      <td>0.064641</td>\n",
       "      <td>1.442650</td>\n",
       "    </tr>\n",
       "    <tr>\n",
       "      <th>1</th>\n",
       "      <td>(Cheese)</td>\n",
       "      <td>(Milk)</td>\n",
       "      <td>0.501587</td>\n",
       "      <td>0.501587</td>\n",
       "      <td>0.304762</td>\n",
       "      <td>0.607595</td>\n",
       "      <td>1.211344</td>\n",
       "      <td>0.053172</td>\n",
       "      <td>1.270148</td>\n",
       "    </tr>\n",
       "    <tr>\n",
       "      <th>2</th>\n",
       "      <td>(Milk)</td>\n",
       "      <td>(Cheese)</td>\n",
       "      <td>0.501587</td>\n",
       "      <td>0.501587</td>\n",
       "      <td>0.304762</td>\n",
       "      <td>0.607595</td>\n",
       "      <td>1.211344</td>\n",
       "      <td>0.053172</td>\n",
       "      <td>1.270148</td>\n",
       "    </tr>\n",
       "    <tr>\n",
       "      <th>3</th>\n",
       "      <td>(Eggs)</td>\n",
       "      <td>(Cheese)</td>\n",
       "      <td>0.438095</td>\n",
       "      <td>0.501587</td>\n",
       "      <td>0.298413</td>\n",
       "      <td>0.681159</td>\n",
       "      <td>1.358008</td>\n",
       "      <td>0.078670</td>\n",
       "      <td>1.563203</td>\n",
       "    </tr>\n",
       "    <tr>\n",
       "      <th>4</th>\n",
       "      <td>(Eggs)</td>\n",
       "      <td>(Meat)</td>\n",
       "      <td>0.438095</td>\n",
       "      <td>0.476190</td>\n",
       "      <td>0.266667</td>\n",
       "      <td>0.608696</td>\n",
       "      <td>1.278261</td>\n",
       "      <td>0.058050</td>\n",
       "      <td>1.338624</td>\n",
       "    </tr>\n",
       "    <tr>\n",
       "      <th>5</th>\n",
       "      <td>(Wine)</td>\n",
       "      <td>(Cheese)</td>\n",
       "      <td>0.438095</td>\n",
       "      <td>0.501587</td>\n",
       "      <td>0.269841</td>\n",
       "      <td>0.615942</td>\n",
       "      <td>1.227986</td>\n",
       "      <td>0.050098</td>\n",
       "      <td>1.297754</td>\n",
       "    </tr>\n",
       "    <tr>\n",
       "      <th>6</th>\n",
       "      <td>(Cheese)</td>\n",
       "      <td>(Meat)</td>\n",
       "      <td>0.501587</td>\n",
       "      <td>0.476190</td>\n",
       "      <td>0.323810</td>\n",
       "      <td>0.645570</td>\n",
       "      <td>1.355696</td>\n",
       "      <td>0.084958</td>\n",
       "      <td>1.477891</td>\n",
       "    </tr>\n",
       "    <tr>\n",
       "      <th>7</th>\n",
       "      <td>(Meat)</td>\n",
       "      <td>(Cheese)</td>\n",
       "      <td>0.476190</td>\n",
       "      <td>0.501587</td>\n",
       "      <td>0.323810</td>\n",
       "      <td>0.680000</td>\n",
       "      <td>1.355696</td>\n",
       "      <td>0.084958</td>\n",
       "      <td>1.557540</td>\n",
       "    </tr>\n",
       "    <tr>\n",
       "      <th>8</th>\n",
       "      <td>(Cheese, Meat)</td>\n",
       "      <td>(Milk)</td>\n",
       "      <td>0.323810</td>\n",
       "      <td>0.501587</td>\n",
       "      <td>0.203175</td>\n",
       "      <td>0.627451</td>\n",
       "      <td>1.250931</td>\n",
       "      <td>0.040756</td>\n",
       "      <td>1.337845</td>\n",
       "    </tr>\n",
       "    <tr>\n",
       "      <th>9</th>\n",
       "      <td>(Cheese, Milk)</td>\n",
       "      <td>(Meat)</td>\n",
       "      <td>0.304762</td>\n",
       "      <td>0.476190</td>\n",
       "      <td>0.203175</td>\n",
       "      <td>0.666667</td>\n",
       "      <td>1.400000</td>\n",
       "      <td>0.058050</td>\n",
       "      <td>1.571429</td>\n",
       "    </tr>\n",
       "    <tr>\n",
       "      <th>10</th>\n",
       "      <td>(Meat, Milk)</td>\n",
       "      <td>(Cheese)</td>\n",
       "      <td>0.244444</td>\n",
       "      <td>0.501587</td>\n",
       "      <td>0.203175</td>\n",
       "      <td>0.831169</td>\n",
       "      <td>1.657077</td>\n",
       "      <td>0.080564</td>\n",
       "      <td>2.952137</td>\n",
       "    </tr>\n",
       "    <tr>\n",
       "      <th>11</th>\n",
       "      <td>(Eggs, Cheese)</td>\n",
       "      <td>(Meat)</td>\n",
       "      <td>0.298413</td>\n",
       "      <td>0.476190</td>\n",
       "      <td>0.215873</td>\n",
       "      <td>0.723404</td>\n",
       "      <td>1.519149</td>\n",
       "      <td>0.073772</td>\n",
       "      <td>1.893773</td>\n",
       "    </tr>\n",
       "    <tr>\n",
       "      <th>12</th>\n",
       "      <td>(Cheese, Meat)</td>\n",
       "      <td>(Eggs)</td>\n",
       "      <td>0.323810</td>\n",
       "      <td>0.438095</td>\n",
       "      <td>0.215873</td>\n",
       "      <td>0.666667</td>\n",
       "      <td>1.521739</td>\n",
       "      <td>0.074014</td>\n",
       "      <td>1.685714</td>\n",
       "    </tr>\n",
       "    <tr>\n",
       "      <th>13</th>\n",
       "      <td>(Eggs, Meat)</td>\n",
       "      <td>(Cheese)</td>\n",
       "      <td>0.266667</td>\n",
       "      <td>0.501587</td>\n",
       "      <td>0.215873</td>\n",
       "      <td>0.809524</td>\n",
       "      <td>1.613924</td>\n",
       "      <td>0.082116</td>\n",
       "      <td>2.616667</td>\n",
       "    </tr>\n",
       "  </tbody>\n",
       "</table>\n",
       "</div>"
      ],
      "text/plain": [
       "       antecedents consequents  antecedent support  consequent support  \\\n",
       "0          (Bagel)     (Bread)            0.425397            0.504762   \n",
       "1         (Cheese)      (Milk)            0.501587            0.501587   \n",
       "2           (Milk)    (Cheese)            0.501587            0.501587   \n",
       "3           (Eggs)    (Cheese)            0.438095            0.501587   \n",
       "4           (Eggs)      (Meat)            0.438095            0.476190   \n",
       "5           (Wine)    (Cheese)            0.438095            0.501587   \n",
       "6         (Cheese)      (Meat)            0.501587            0.476190   \n",
       "7           (Meat)    (Cheese)            0.476190            0.501587   \n",
       "8   (Cheese, Meat)      (Milk)            0.323810            0.501587   \n",
       "9   (Cheese, Milk)      (Meat)            0.304762            0.476190   \n",
       "10    (Meat, Milk)    (Cheese)            0.244444            0.501587   \n",
       "11  (Eggs, Cheese)      (Meat)            0.298413            0.476190   \n",
       "12  (Cheese, Meat)      (Eggs)            0.323810            0.438095   \n",
       "13    (Eggs, Meat)    (Cheese)            0.266667            0.501587   \n",
       "\n",
       "     support  confidence      lift  leverage  conviction  \n",
       "0   0.279365    0.656716  1.301042  0.064641    1.442650  \n",
       "1   0.304762    0.607595  1.211344  0.053172    1.270148  \n",
       "2   0.304762    0.607595  1.211344  0.053172    1.270148  \n",
       "3   0.298413    0.681159  1.358008  0.078670    1.563203  \n",
       "4   0.266667    0.608696  1.278261  0.058050    1.338624  \n",
       "5   0.269841    0.615942  1.227986  0.050098    1.297754  \n",
       "6   0.323810    0.645570  1.355696  0.084958    1.477891  \n",
       "7   0.323810    0.680000  1.355696  0.084958    1.557540  \n",
       "8   0.203175    0.627451  1.250931  0.040756    1.337845  \n",
       "9   0.203175    0.666667  1.400000  0.058050    1.571429  \n",
       "10  0.203175    0.831169  1.657077  0.080564    2.952137  \n",
       "11  0.215873    0.723404  1.519149  0.073772    1.893773  \n",
       "12  0.215873    0.666667  1.521739  0.074014    1.685714  \n",
       "13  0.215873    0.809524  1.613924  0.082116    2.616667  "
      ]
     },
     "execution_count": 10,
     "metadata": {},
     "output_type": "execute_result"
    }
   ],
   "source": [
    "from mlxtend.frequent_patterns import association_rules\n",
    "rules = association_rules(freq_items, metric=\"confidence\", min_threshold=0.6)\n",
    "rules.drop(['zhangs_metric'], axis=1)\n"
   ]
  },
  {
   "cell_type": "markdown",
   "metadata": {},
   "source": [
    "Provide explanation about __antecedent support__, __consequent support__, __support__, __confidence__, __lift__, __leverage__ and __conviction__"
   ]
  },
  {
   "cell_type": "markdown",
   "metadata": {},
   "source": [
    "Explanation of different measures used in association rule mining:\n",
    "\n",
    "Antecedent Support refers to the frequency of occurrences of the item or set of items on the left-hand side of a rule within the dataset's transactions.\n",
    "\n",
    "Consequent Support represents the frequency of occurrences of the item or set of items on the right-hand side of a rule within the dataset's transactions.\n",
    "\n",
    "Support denotes the frequency of transactions in the dataset that contain both the antecedent and consequent, essentially representing the probability of both items occurring together.\n",
    "\n",
    "Confidence measures the reliability of a rule by determining the proportion of transactions containing the antecedent that also contain the consequent.\n",
    "\n",
    "Lift signifies the ratio between the observed support and the expected support if the antecedent and consequent were independent. A value greater than 1 suggests a higher likelihood of the items being bought together than if they were purchased independently.\n",
    "\n",
    "Leverage computes the difference between the observed frequency of both antecedent and consequent appearing together and what would be expected if they were independent. A value of 0 implies independence.\n",
    "\n",
    "Conviction indicates the strength of the implication within a rule. A high conviction value implies a strong dependency of the consequent on the antecedent, suggesting that the association between the items is not likely due to random chance. For example, a high conviction in the rule {Meat, Milk} -> {Cheese} would suggest that the relationship between Meat, Milk, and Cheese isn't likely due to random occurrences.\n"
   ]
  },
  {
   "cell_type": "markdown",
   "metadata": {},
   "source": []
  }
 ],
 "metadata": {
  "colab": {
   "provenance": []
  },
  "kernelspec": {
   "display_name": "Python 3 (ipykernel)",
   "language": "python",
   "name": "python3"
  },
  "language_info": {
   "codemirror_mode": {
    "name": "ipython",
    "version": 3
   },
   "file_extension": ".py",
   "mimetype": "text/x-python",
   "name": "python",
   "nbconvert_exporter": "python",
   "pygments_lexer": "ipython3",
   "version": "3.11.4"
  }
 },
 "nbformat": 4,
 "nbformat_minor": 4
}
